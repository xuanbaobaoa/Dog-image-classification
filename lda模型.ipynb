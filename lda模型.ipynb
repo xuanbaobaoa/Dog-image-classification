{
 "cells": [
  {
   "cell_type": "code",
   "execution_count": 1,
   "id": "9a016547",
   "metadata": {},
   "outputs": [],
   "source": [
    "import pandas as pd"
   ]
  },
  {
   "cell_type": "code",
   "execution_count": 2,
   "id": "704e499f-2723-4cac-af9b-b31d9185358d",
   "metadata": {},
   "outputs": [
    {
     "name": "stdout",
     "output_type": "stream",
     "text": [
      "Requirement already satisfied: openpyxl in c:\\users\\86198\\anaconda3\\lib\\site-packages (3.0.9)\n",
      "Requirement already satisfied: et-xmlfile in c:\\users\\86198\\anaconda3\\lib\\site-packages (from openpyxl) (1.1.0)\n"
     ]
    }
   ],
   "source": [
    "! pip install openpyxl"
   ]
  },
  {
   "cell_type": "code",
   "execution_count": 3,
   "id": "fab3c123",
   "metadata": {},
   "outputs": [],
   "source": [
    "# 读入数据\n",
    "df = pd.read_excel('jinmao1.xlsx')"
   ]
  },
  {
   "cell_type": "code",
   "execution_count": 4,
   "id": "a537cad7",
   "metadata": {
    "scrolled": true
   },
   "outputs": [
    {
     "data": {
      "text/html": [
       "<div>\n",
       "<style scoped>\n",
       "    .dataframe tbody tr th:only-of-type {\n",
       "        vertical-align: middle;\n",
       "    }\n",
       "\n",
       "    .dataframe tbody tr th {\n",
       "        vertical-align: top;\n",
       "    }\n",
       "\n",
       "    .dataframe thead th {\n",
       "        text-align: right;\n",
       "    }\n",
       "</style>\n",
       "<table border=\"1\" class=\"dataframe\">\n",
       "  <thead>\n",
       "    <tr style=\"text-align: right;\">\n",
       "      <th></th>\n",
       "      <th>评论</th>\n",
       "      <th>sentiment</th>\n",
       "    </tr>\n",
       "  </thead>\n",
       "  <tbody>\n",
       "    <tr>\n",
       "      <th>0</th>\n",
       "      <td>@蜡笔小新 好可爱好想捏捏它</td>\n",
       "      <td>1</td>\n",
       "    </tr>\n",
       "    <tr>\n",
       "      <th>1</th>\n",
       "      <td>哇塞 小金毛 好想养一只</td>\n",
       "      <td>1</td>\n",
       "    </tr>\n",
       "    <tr>\n",
       "      <th>2</th>\n",
       "      <td>@熙熙 非常可爱！非常！</td>\n",
       "      <td>1</td>\n",
       "    </tr>\n",
       "    <tr>\n",
       "      <th>3</th>\n",
       "      <td>你长得真可爱</td>\n",
       "      <td>1</td>\n",
       "    </tr>\n",
       "    <tr>\n",
       "      <th>4</th>\n",
       "      <td>好可爱</td>\n",
       "      <td>1</td>\n",
       "    </tr>\n",
       "  </tbody>\n",
       "</table>\n",
       "</div>"
      ],
      "text/plain": [
       "               评论  sentiment\n",
       "0  @蜡笔小新 好可爱好想捏捏它          1\n",
       "1    哇塞 小金毛 好想养一只          1\n",
       "2    @熙熙 非常可爱！非常！          1\n",
       "3          你长得真可爱          1\n",
       "4             好可爱          1"
      ]
     },
     "execution_count": 4,
     "metadata": {},
     "output_type": "execute_result"
    }
   ],
   "source": [
    "df.head()"
   ]
  },
  {
   "cell_type": "code",
   "execution_count": 5,
   "id": "8d76b20e",
   "metadata": {},
   "outputs": [],
   "source": [
    "df = df.astype({'评论':'unicode'}) "
   ]
  },
  {
   "cell_type": "code",
   "execution_count": 6,
   "id": "186f0c66",
   "metadata": {},
   "outputs": [],
   "source": [
    "# 调用软件包snownlp对正文列进行情感分析，将结果存储在sentiment_snownlp列中"
   ]
  },
  {
   "cell_type": "code",
   "execution_count": 7,
   "id": "6693938b",
   "metadata": {},
   "outputs": [
    {
     "name": "stdout",
     "output_type": "stream",
     "text": [
      "Requirement already satisfied: snownlp in c:\\users\\86198\\anaconda3\\lib\\site-packages (0.12.3)\n"
     ]
    }
   ],
   "source": [
    "!pip install snownlp"
   ]
  },
  {
   "cell_type": "code",
   "execution_count": 8,
   "id": "5831be6c-e197-43d5-9c81-ee613b4e0550",
   "metadata": {},
   "outputs": [
    {
     "name": "stdout",
     "output_type": "stream",
     "text": [
      "Requirement already satisfied: jieba in c:\\users\\86198\\anaconda3\\lib\\site-packages (0.42.1)\n"
     ]
    }
   ],
   "source": [
    "!pip install jieba"
   ]
  },
  {
   "cell_type": "code",
   "execution_count": 9,
   "id": "14be1173",
   "metadata": {},
   "outputs": [],
   "source": [
    "import jieba\n",
    "from snownlp import SnowNLP\n",
    "import numpy as np"
   ]
  },
  {
   "cell_type": "code",
   "execution_count": 10,
   "id": "9c0d0b4a",
   "metadata": {},
   "outputs": [],
   "source": [
    "def sentiment_snownlp(text):\n",
    "    s = SnowNLP(text)\n",
    "    return s.sentiments"
   ]
  },
  {
   "cell_type": "code",
   "execution_count": 11,
   "id": "3b17c8c2",
   "metadata": {},
   "outputs": [
    {
     "data": {
      "text/plain": [
       "0     0.994507\n",
       "1     0.412445\n",
       "2     0.895579\n",
       "3     0.838877\n",
       "4     0.878968\n",
       "        ...   \n",
       "95    0.031280\n",
       "96    0.309996\n",
       "97    0.784165\n",
       "98    0.032185\n",
       "99    0.022571\n",
       "Name: 评论, Length: 100, dtype: float64"
      ]
     },
     "execution_count": 11,
     "metadata": {},
     "output_type": "execute_result"
    }
   ],
   "source": [
    "df['评论'].apply(sentiment_snownlp)"
   ]
  },
  {
   "cell_type": "code",
   "execution_count": 12,
   "id": "8ddf0ae6",
   "metadata": {},
   "outputs": [
    {
     "data": {
      "text/html": [
       "<div>\n",
       "<style scoped>\n",
       "    .dataframe tbody tr th:only-of-type {\n",
       "        vertical-align: middle;\n",
       "    }\n",
       "\n",
       "    .dataframe tbody tr th {\n",
       "        vertical-align: top;\n",
       "    }\n",
       "\n",
       "    .dataframe thead th {\n",
       "        text-align: right;\n",
       "    }\n",
       "</style>\n",
       "<table border=\"1\" class=\"dataframe\">\n",
       "  <thead>\n",
       "    <tr style=\"text-align: right;\">\n",
       "      <th></th>\n",
       "      <th>评论</th>\n",
       "      <th>sentiment</th>\n",
       "    </tr>\n",
       "  </thead>\n",
       "  <tbody>\n",
       "    <tr>\n",
       "      <th>0</th>\n",
       "      <td>@蜡笔小新 好可爱好想捏捏它</td>\n",
       "      <td>1</td>\n",
       "    </tr>\n",
       "    <tr>\n",
       "      <th>1</th>\n",
       "      <td>哇塞 小金毛 好想养一只</td>\n",
       "      <td>1</td>\n",
       "    </tr>\n",
       "    <tr>\n",
       "      <th>2</th>\n",
       "      <td>@熙熙 非常可爱！非常！</td>\n",
       "      <td>1</td>\n",
       "    </tr>\n",
       "    <tr>\n",
       "      <th>3</th>\n",
       "      <td>你长得真可爱</td>\n",
       "      <td>1</td>\n",
       "    </tr>\n",
       "    <tr>\n",
       "      <th>4</th>\n",
       "      <td>好可爱</td>\n",
       "      <td>1</td>\n",
       "    </tr>\n",
       "  </tbody>\n",
       "</table>\n",
       "</div>"
      ],
      "text/plain": [
       "               评论  sentiment\n",
       "0  @蜡笔小新 好可爱好想捏捏它          1\n",
       "1    哇塞 小金毛 好想养一只          1\n",
       "2    @熙熙 非常可爱！非常！          1\n",
       "3          你长得真可爱          1\n",
       "4             好可爱          1"
      ]
     },
     "execution_count": 12,
     "metadata": {},
     "output_type": "execute_result"
    }
   ],
   "source": [
    "df.head()"
   ]
  },
  {
   "cell_type": "code",
   "execution_count": 13,
   "id": "5307b71c",
   "metadata": {},
   "outputs": [],
   "source": [
    "df['评论'].apply(sentiment_snownlp)\n",
    "df['sentiment_snownlp'] = df['评论'].apply(sentiment_snownlp).apply(lambda x:1 if x >0.5 else 0)"
   ]
  },
  {
   "cell_type": "code",
   "execution_count": 14,
   "id": "9b305398-6847-4b71-b9ff-731a9daf23cb",
   "metadata": {},
   "outputs": [],
   "source": [
    "# 根据 sentiment 和 sentiment_snownlp ，测情感分析判断准确率\n",
    "from sklearn.metrics import accuracy_score"
   ]
  },
  {
   "cell_type": "code",
   "execution_count": 15,
   "id": "9e3e6133-e59d-4fb5-a57f-cdfdaae64d8f",
   "metadata": {},
   "outputs": [],
   "source": [
    "accuracy = accuracy_score(df['sentiment'], df['sentiment_snownlp'])"
   ]
  },
  {
   "cell_type": "code",
   "execution_count": 16,
   "id": "99b049bc-4d46-4d7f-b940-c62ee9c3a265",
   "metadata": {},
   "outputs": [
    {
     "name": "stdout",
     "output_type": "stream",
     "text": [
      "准确率为：0.84\n"
     ]
    }
   ],
   "source": [
    "print(f\"准确率为：{accuracy}\")"
   ]
  },
  {
   "cell_type": "code",
   "execution_count": 17,
   "id": "20db1db4-274e-428d-a8b7-684cc7d9da11",
   "metadata": {},
   "outputs": [
    {
     "data": {
      "text/plain": [
       "1    69\n",
       "0    31\n",
       "Name: sentiment_snownlp, dtype: int64"
      ]
     },
     "execution_count": 17,
     "metadata": {},
     "output_type": "execute_result"
    }
   ],
   "source": [
    "T1=df['sentiment_snownlp'].value_counts();T1"
   ]
  },
  {
   "cell_type": "code",
   "execution_count": 18,
   "id": "20f27ae5-e60b-4bc5-a195-610102fcf547",
   "metadata": {},
   "outputs": [
    {
     "data": {
      "text/plain": [
       "1    69.0\n",
       "0    31.0\n",
       "Name: sentiment_snownlp, dtype: float64"
      ]
     },
     "execution_count": 18,
     "metadata": {},
     "output_type": "execute_result"
    }
   ],
   "source": [
    "T1/sum(T1)*100"
   ]
  },
  {
   "cell_type": "code",
   "execution_count": 19,
   "id": "2e83c928",
   "metadata": {},
   "outputs": [
    {
     "name": "stdout",
     "output_type": "stream",
     "text": [
      "百分比: 1    69.0\n",
      "0    31.0\n",
      "Name: sentiment_snownlp, dtype: float64\n"
     ]
    }
   ],
   "source": [
    "print(f\"百分比: {T1/sum(T1)*100}\")"
   ]
  },
  {
   "cell_type": "code",
   "execution_count": 20,
   "id": "0ffc8915-52f3-45cb-b44e-84127f508a86",
   "metadata": {},
   "outputs": [],
   "source": [
    "# 按照 sentiment_snownlp 取值，把 df 分成 positive 和 negative 两个数据框\n",
    "positive = df[df['sentiment_snownlp']==1]\n",
    "negative = df[df['sentiment_snownlp']==0]"
   ]
  },
  {
   "cell_type": "code",
   "execution_count": 21,
   "id": "0c52ea59-84c0-4d6f-9fde-31b0f2a8c69c",
   "metadata": {},
   "outputs": [],
   "source": [
    "# 对 positive 数据框，对评论做 lda 分析。首先测定类别个数，然后做出可视化图形\n",
    "from sklearn.feature_extraction.text import CountVectorizer\n",
    "from sklearn.decomposition import LatentDirichletAllocation\n",
    "import matplotlib.pyplot as plt"
   ]
  },
  {
   "cell_type": "code",
   "execution_count": 22,
   "id": "b3a2903e-08cb-4d13-a810-7f1a103768a7",
   "metadata": {},
   "outputs": [],
   "source": [
    "# 对 positive 数据框的正文列进行分词，去除停用词\n",
    "import jieba\n",
    "import jieba.analyse\n",
    "import jieba.posseg as pseg\n",
    "import re"
   ]
  },
  {
   "cell_type": "code",
   "execution_count": 23,
   "id": "c490cfa9-da10-4d8e-94ca-3a161a24c1bf",
   "metadata": {},
   "outputs": [],
   "source": [
    "def chinese_word_cut(mytext):\n",
    "    return \" \".join(jieba.lcut(mytext))"
   ]
  },
  {
   "cell_type": "code",
   "execution_count": 24,
   "id": "9e03454e-5d47-420a-8a12-c43716ffb858",
   "metadata": {},
   "outputs": [
    {
     "name": "stderr",
     "output_type": "stream",
     "text": [
      "Building prefix dict from the default dictionary ...\n",
      "Loading model from cache C:\\Users\\86198\\AppData\\Local\\Temp\\jieba.cache\n",
      "Loading model cost 0.780 seconds.\n",
      "Prefix dict has been built successfully.\n",
      "C:\\Users\\86198\\AppData\\Local\\Temp\\ipykernel_15200\\629945185.py:2: SettingWithCopyWarning: \n",
      "A value is trying to be set on a copy of a slice from a DataFrame.\n",
      "Try using .loc[row_indexer,col_indexer] = value instead\n",
      "\n",
      "See the caveats in the documentation: https://pandas.pydata.org/pandas-docs/stable/user_guide/indexing.html#returning-a-view-versus-a-copy\n",
      "  positive['评论'] = positive['评论'].apply(jieba.lcut)\n"
     ]
    }
   ],
   "source": [
    "# 对 positive 数据框的评论列进行分词\n",
    "positive['评论'] = positive['评论'].apply(jieba.lcut)"
   ]
  },
  {
   "cell_type": "code",
   "execution_count": 25,
   "id": "fbf338e2-2473-421a-b523-3f1928349371",
   "metadata": {},
   "outputs": [],
   "source": [
    "import urllib.request"
   ]
  },
  {
   "cell_type": "code",
   "execution_count": 26,
   "id": "738f3a18-e0e5-48e6-9efe-22f42cb4b856",
   "metadata": {},
   "outputs": [],
   "source": [
    "def remove_stop_words(mytext):\n",
    "    stopwords = pd.read_csv(\"stopwords.txt\", index_col=False, quoting=3, sep=\"\\t\", names=['stopword'], encoding='utf-8')\n",
    "    stopwords = stopwords['stopword'].values\n",
    "    mytext = re.sub('[^\\w\\s]', '', mytext)\n",
    "    mytext = re.sub('\\s+', ' ', mytext)\n",
    "    words = mytext.split()\n",
    "    words = [w for w in words if not w in stopwords]\n",
    "    return \" \".join(words)"
   ]
  },
  {
   "cell_type": "code",
   "execution_count": 28,
   "id": "49ecec77-040f-4148-b56b-519f74b9e98b",
   "metadata": {},
   "outputs": [
    {
     "data": {
      "text/html": [
       "<div>\n",
       "<style scoped>\n",
       "    .dataframe tbody tr th:only-of-type {\n",
       "        vertical-align: middle;\n",
       "    }\n",
       "\n",
       "    .dataframe tbody tr th {\n",
       "        vertical-align: top;\n",
       "    }\n",
       "\n",
       "    .dataframe thead th {\n",
       "        text-align: right;\n",
       "    }\n",
       "</style>\n",
       "<table border=\"1\" class=\"dataframe\">\n",
       "  <thead>\n",
       "    <tr style=\"text-align: right;\">\n",
       "      <th></th>\n",
       "      <th>评论</th>\n",
       "      <th>sentiment</th>\n",
       "      <th>sentiment_snownlp</th>\n",
       "    </tr>\n",
       "  </thead>\n",
       "  <tbody>\n",
       "    <tr>\n",
       "      <th>0</th>\n",
       "      <td>[@, 蜡笔小新,  , 好, 可爱, 好, 想, 捏, 捏, 它]</td>\n",
       "      <td>1</td>\n",
       "      <td>1</td>\n",
       "    </tr>\n",
       "    <tr>\n",
       "      <th>2</th>\n",
       "      <td>[@, 熙熙,  , 非常, 可爱, ！, 非常, ！]</td>\n",
       "      <td>1</td>\n",
       "      <td>1</td>\n",
       "    </tr>\n",
       "    <tr>\n",
       "      <th>3</th>\n",
       "      <td>[你, 长得, 真, 可爱]</td>\n",
       "      <td>1</td>\n",
       "      <td>1</td>\n",
       "    </tr>\n",
       "    <tr>\n",
       "      <th>4</th>\n",
       "      <td>[好, 可爱]</td>\n",
       "      <td>1</td>\n",
       "      <td>1</td>\n",
       "    </tr>\n",
       "    <tr>\n",
       "      <th>5</th>\n",
       "      <td>[@, 小, 陈,  , @, 快乐, 冠军,  , @, 明所, 将, 往,  , @, ...</td>\n",
       "      <td>1</td>\n",
       "      <td>1</td>\n",
       "    </tr>\n",
       "  </tbody>\n",
       "</table>\n",
       "</div>"
      ],
      "text/plain": [
       "                                                  评论  sentiment  \\\n",
       "0                 [@, 蜡笔小新,  , 好, 可爱, 好, 想, 捏, 捏, 它]          1   \n",
       "2                       [@, 熙熙,  , 非常, 可爱, ！, 非常, ！]          1   \n",
       "3                                     [你, 长得, 真, 可爱]          1   \n",
       "4                                            [好, 可爱]          1   \n",
       "5  [@, 小, 陈,  , @, 快乐, 冠军,  , @, 明所, 将, 往,  , @, ...          1   \n",
       "\n",
       "   sentiment_snownlp  \n",
       "0                  1  \n",
       "2                  1  \n",
       "3                  1  \n",
       "4                  1  \n",
       "5                  1  "
      ]
     },
     "execution_count": 28,
     "metadata": {},
     "output_type": "execute_result"
    }
   ],
   "source": [
    "positive.head()"
   ]
  },
  {
   "cell_type": "code",
   "execution_count": 29,
   "id": "a714a532-fd07-427f-a7d5-4b73c3e292ea",
   "metadata": {},
   "outputs": [],
   "source": [
    "# 对 positive 数据框的评论列进行向量化\n",
    "vectorizer = CountVectorizer(token_pattern='(?u)\\\\b\\\\w+\\\\b')\n",
    "X = vectorizer.fit_transform(positive['评论'].apply(lambda x: ' '.join(x)))  "
   ]
  },
  {
   "cell_type": "code",
   "execution_count": 30,
   "id": "4506a102-7059-42d7-aea1-a8f4adfc83aa",
   "metadata": {},
   "outputs": [
    {
     "data": {
      "text/plain": [
       "<69x189 sparse matrix of type '<class 'numpy.int64'>'\n",
       "\twith 381 stored elements in Compressed Sparse Row format>"
      ]
     },
     "execution_count": 30,
     "metadata": {},
     "output_type": "execute_result"
    }
   ],
   "source": [
    "X"
   ]
  },
  {
   "cell_type": "code",
   "execution_count": 31,
   "id": "99228661-30e6-451b-8bef-ddb42f0899c4",
   "metadata": {},
   "outputs": [
    {
     "name": "stdout",
     "output_type": "stream",
     "text": [
      "  (0, 158)\t1\n",
      "  (0, 72)\t2\n",
      "  (0, 44)\t1\n",
      "  (0, 95)\t1\n",
      "  (0, 103)\t2\n",
      "  (0, 79)\t1\n"
     ]
    }
   ],
   "source": [
    "print(X[0])"
   ]
  },
  {
   "cell_type": "code",
   "execution_count": 32,
   "id": "fb9de30b-9a81-4823-ba4d-30dab39f647c",
   "metadata": {},
   "outputs": [],
   "source": [
    "# 测定类别个数\n",
    "n_topics = None"
   ]
  },
  {
   "cell_type": "code",
   "execution_count": 33,
   "id": "e9d3ce99-be97-4718-8fcf-63e30ada2564",
   "metadata": {},
   "outputs": [],
   "source": [
    "# 测定 perplexity 等指标变化\n",
    "perplexity_list = []\n",
    "for i in range(2, 20):\n",
    "    lda = LatentDirichletAllocation(n_components=i, random_state=0)\n",
    "    lda.fit(X)\n",
    "    perplexity_list.append(lda.perplexity(X))"
   ]
  },
  {
   "cell_type": "code",
   "execution_count": 34,
   "id": "aa91d5da-c92e-439e-b526-ec7aad887416",
   "metadata": {},
   "outputs": [
    {
     "data": {
      "image/png": "[encoded data removed]",
      "text/plain": [
       "<Figure size 432x288 with 1 Axes>"
      ]
     },
     "metadata": {
      "needs_background": "light"
     },
     "output_type": "display_data"
    }
   ],
   "source": [
    "plt.plot(range(2, 20), perplexity_list)\n",
    "plt.xlabel('Number of Topics')\n",
    "plt.ylabel('Perplexity')\n",
    "plt.show()"
   ]
  },
  {
   "cell_type": "code",
   "execution_count": 35,
   "id": "dccc3d33-99e9-4ac3-bb24-ec6858253941",
   "metadata": {},
   "outputs": [],
   "source": [
    "# 根据 perplexity 等指标变化，选择最优的类别个数\n",
    "best_n_topics = perplexity_list.index(min(perplexity_list)) + 2"
   ]
  },
  {
   "cell_type": "code",
   "execution_count": 36,
   "id": "3f3591f0-4bbb-4c64-8228-1598f42054b0",
   "metadata": {},
   "outputs": [
    {
     "data": {
      "text/plain": [
       "LatentDirichletAllocation(n_components=2, random_state=0)"
      ]
     },
     "execution_count": 36,
     "metadata": {},
     "output_type": "execute_result"
    }
   ],
   "source": [
    "# 使用最优的类别个数，做 lda 分析\n",
    "random_state = 0\n",
    "lda = LatentDirichletAllocation(n_components=best_n_topics, \n",
    "                                random_state=random_state)\n",
    "lda.fit(X)"
   ]
  },
  {
   "cell_type": "code",
   "execution_count": 37,
   "id": "407ee5e6-48f2-4694-a901-ce6b047c7146",
   "metadata": {},
   "outputs": [
    {
     "name": "stdout",
     "output_type": "stream",
     "text": [
      "Topic 0:\n",
      "['金毛', '很', '狗狗', '的', '了', '太', '我', '喜欢', '啦', '可爱']\n"
     ]
    },
    {
     "name": "stderr",
     "output_type": "stream",
     "text": [
      "C:\\Users\\86198\\anaconda3\\lib\\site-packages\\sklearn\\utils\\deprecation.py:87: FutureWarning: Function get_feature_names is deprecated; get_feature_names is deprecated in 1.0 and will be removed in 1.2. Please use get_feature_names_out instead.\n",
      "  warnings.warn(msg, category=FutureWarning)\n"
     ]
    },
    {
     "data": {
      "image/png": "[encoded data removed]",
      "text/plain": [
       "<Figure size 432x288 with 1 Axes>"
      ]
     },
     "metadata": {
      "needs_background": "light"
     },
     "output_type": "display_data"
    },
    {
     "name": "stderr",
     "output_type": "stream",
     "text": [
      "C:\\Users\\86198\\anaconda3\\lib\\site-packages\\sklearn\\utils\\deprecation.py:87: FutureWarning: Function get_feature_names is deprecated; get_feature_names is deprecated in 1.0 and will be removed in 1.2. Please use get_feature_names_out instead.\n",
      "  warnings.warn(msg, category=FutureWarning)\n"
     ]
    },
    {
     "name": "stdout",
     "output_type": "stream",
     "text": [
      "Topic 1:\n",
      "['一下', '鸡毛', '亲', '什么', '啊', '小', '小狗', '的', '可爱', '好']\n"
     ]
    },
    {
     "data": {
      "image/png": "[encoded data removed]",
      "text/plain": [
       "<Figure size 432x288 with 1 Axes>"
      ]
     },
     "metadata": {
      "needs_background": "light"
     },
     "output_type": "display_data"
    }
   ],
   "source": [
    "# 可视化图形\n",
    "for i, topic in enumerate(lda.components_):\n",
    "    print(f\"Topic {i}:\")\n",
    "    print([vectorizer.get_feature_names()[index] for index in topic.argsort()[-10:]])\n",
    "    plt.bar([vectorizer.get_feature_names()[index] for index in topic.argsort()[-10:]], topic[topic.argsort()[-10:]])\n",
    "    plt.xticks(rotation=45)\n",
    "    plt.title(f\"Topic {i}\")\n",
    "    # plt.rcParams['font.sans-serif'] = ['Arial Unicode MS']\n",
    "    plt.rcParams['font.sans-serif'] = ['SimHei']\n",
    "    plt.rcParams['axes.unicode_minus'] = False\n",
    "    plt.show()"
   ]
  },
  {
   "cell_type": "code",
   "execution_count": 38,
   "id": "0c847e64-338b-454e-86c6-9535c589b7ae",
   "metadata": {},
   "outputs": [
    {
     "name": "stdout",
     "output_type": "stream",
     "text": [
      "Requirement already satisfied: pyLDAvis in c:\\users\\86198\\anaconda3\\lib\\site-packages (3.4.0)\n",
      "Requirement already satisfied: funcy in c:\\users\\86198\\anaconda3\\lib\\site-packages (from pyLDAvis) (2.0)\n",
      "Requirement already satisfied: scipy in c:\\users\\86198\\anaconda3\\lib\\site-packages (from pyLDAvis) (1.7.3)\n",
      "Requirement already satisfied: scikit-learn>=1.0.0 in c:\\users\\86198\\anaconda3\\lib\\site-packages (from pyLDAvis) (1.0.2)\n",
      "Requirement already satisfied: setuptools in c:\\users\\86198\\anaconda3\\lib\\site-packages (from pyLDAvis) (61.2.0)\n",
      "Requirement already satisfied: jinja2 in c:\\users\\86198\\anaconda3\\lib\\site-packages (from pyLDAvis) (2.11.3)\n",
      "Requirement already satisfied: pandas>=1.3.4 in c:\\users\\86198\\anaconda3\\lib\\site-packages (from pyLDAvis) (1.4.2)\n",
      "Requirement already satisfied: joblib>=1.2.0 in c:\\users\\86198\\anaconda3\\lib\\site-packages (from pyLDAvis) (1.2.0)\n",
      "Requirement already satisfied: numexpr in c:\\users\\86198\\anaconda3\\lib\\site-packages (from pyLDAvis) (2.8.1)\n",
      "Requirement already satisfied: gensim in c:\\users\\86198\\anaconda3\\lib\\site-packages (from pyLDAvis) (4.1.2)\n",
      "Requirement already satisfied: numpy>=1.22.0 in c:\\users\\86198\\anaconda3\\lib\\site-packages (from pyLDAvis) (1.22.4)\n",
      "Requirement already satisfied: pytz>=2020.1 in c:\\users\\86198\\anaconda3\\lib\\site-packages (from pandas>=1.3.4->pyLDAvis) (2021.3)\n",
      "Requirement already satisfied: python-dateutil>=2.8.1 in c:\\users\\86198\\anaconda3\\lib\\site-packages (from pandas>=1.3.4->pyLDAvis) (2.8.2)\n",
      "Requirement already satisfied: six>=1.5 in c:\\users\\86198\\anaconda3\\lib\\site-packages (from python-dateutil>=2.8.1->pandas>=1.3.4->pyLDAvis) (1.16.0)\n",
      "Requirement already satisfied: threadpoolctl>=2.0.0 in c:\\users\\86198\\anaconda3\\lib\\site-packages (from scikit-learn>=1.0.0->pyLDAvis) (2.2.0)\n",
      "Requirement already satisfied: smart-open>=1.8.1 in c:\\users\\86198\\anaconda3\\lib\\site-packages (from gensim->pyLDAvis) (6.3.0)\n",
      "Requirement already satisfied: MarkupSafe>=0.23 in c:\\users\\86198\\anaconda3\\lib\\site-packages (from jinja2->pyLDAvis) (2.0.1)\n",
      "Requirement already satisfied: packaging in c:\\users\\86198\\anaconda3\\lib\\site-packages (from numexpr->pyLDAvis) (21.3)\n",
      "Requirement already satisfied: pyparsing!=3.0.5,>=2.0.2 in c:\\users\\86198\\anaconda3\\lib\\site-packages (from packaging->numexpr->pyLDAvis) (3.0.4)\n"
     ]
    }
   ],
   "source": [
    "!pip install pyLDAvis"
   ]
  },
  {
   "cell_type": "code",
   "execution_count": 39,
   "id": "09d3d354-c9d4-4539-b609-8e959d8010a9",
   "metadata": {},
   "outputs": [
    {
     "name": "stderr",
     "output_type": "stream",
     "text": [
      "C:\\Users\\86198\\anaconda3\\lib\\site-packages\\sklearn\\utils\\deprecation.py:87: FutureWarning: Function get_feature_names is deprecated; get_feature_names is deprecated in 1.0 and will be removed in 1.2. Please use get_feature_names_out instead.\n",
      "  warnings.warn(msg, category=FutureWarning)\n",
      "C:\\Users\\86198\\anaconda3\\lib\\site-packages\\pyLDAvis\\_prepare.py:243: FutureWarning: In a future version of pandas all arguments of DataFrame.drop except for the argument 'labels' will be keyword-only.\n",
      "  default_term_info = default_term_info.sort_values(\n"
     ]
    }
   ],
   "source": [
    "import pyLDAvis.sklearn\n",
    "pyLDAvis.enable_notebook()\n",
    "x = pyLDAvis.sklearn.prepare(lda, X, vectorizer)\n",
    "pyLDAvis.save_html(x, 'lda_jinmao10.html')"
   ]
  },
  {
   "cell_type": "code",
   "execution_count": 40,
   "id": "edd453bb-815f-4542-be37-6cff8e308eb5",
   "metadata": {},
   "outputs": [
    {
     "name": "stderr",
     "output_type": "stream",
     "text": [
      "C:\\Users\\86198\\AppData\\Local\\Temp\\ipykernel_15200\\1792254544.py:2: SettingWithCopyWarning: \n",
      "A value is trying to be set on a copy of a slice from a DataFrame.\n",
      "Try using .loc[row_indexer,col_indexer] = value instead\n",
      "\n",
      "See the caveats in the documentation: https://pandas.pydata.org/pandas-docs/stable/user_guide/indexing.html#returning-a-view-versus-a-copy\n",
      "  negative['评论'] = negative['评论'].apply(jieba.lcut)\n"
     ]
    }
   ],
   "source": [
    "# 对 negative 数据框，对评论做 lda 分析\n",
    "negative['评论'] = negative['评论'].apply(jieba.lcut)"
   ]
  },
  {
   "cell_type": "code",
   "execution_count": 41,
   "id": "4959dec7-c522-42c5-81de-11b5036d8539",
   "metadata": {},
   "outputs": [],
   "source": [
    "vectorizer = CountVectorizer(token_pattern='(?u)\\\\b\\\\w+\\\\b')\n",
    "Y = vectorizer.fit_transform(negative['评论'].apply(lambda x: ' '.join(x)))"
   ]
  },
  {
   "cell_type": "code",
   "execution_count": 42,
   "id": "b04d2fa9-671d-45bb-91bb-3f7291d0d15f",
   "metadata": {},
   "outputs": [],
   "source": [
    "n_topics = None"
   ]
  },
  {
   "cell_type": "code",
   "execution_count": 43,
   "id": "cc63da4e-ad77-4ae7-8b75-ec0ebd7155f3",
   "metadata": {},
   "outputs": [],
   "source": [
    "perplexity_list = []\n",
    "for i in range(2, 20):\n",
    "    lda = LatentDirichletAllocation(n_components=i, random_state=0)\n",
    "    lda.fit(Y)\n",
    "    perplexity_list.append(lda.perplexity(Y))"
   ]
  },
  {
   "cell_type": "code",
   "execution_count": 44,
   "id": "49505bc1-4ddc-4198-b7c3-0cd9d2e7ce3b",
   "metadata": {},
   "outputs": [
    {
     "data": {
      "image/png": "[encoded data removed]",
      "text/plain": [
       "<Figure size 432x288 with 1 Axes>"
      ]
     },
     "metadata": {
      "needs_background": "light"
     },
     "output_type": "display_data"
    }
   ],
   "source": [
    "plt.plot(range(2, 20), perplexity_list)\n",
    "plt.xlabel('Number of Topics')\n",
    "plt.ylabel('Perplexity')\n",
    "plt.show()"
   ]
  },
  {
   "cell_type": "code",
   "execution_count": 45,
   "id": "2a400900-92d5-4a23-beec-0f3de8abcc1a",
   "metadata": {},
   "outputs": [],
   "source": [
    "best_n_topics = perplexity_list.index(min(perplexity_list)) + 2"
   ]
  },
  {
   "cell_type": "code",
   "execution_count": 46,
   "id": "20ad1cb4-05d2-4d19-92c6-0e1d4730996a",
   "metadata": {},
   "outputs": [
    {
     "data": {
      "text/plain": [
       "LatentDirichletAllocation(n_components=2, random_state=0)"
      ]
     },
     "execution_count": 46,
     "metadata": {},
     "output_type": "execute_result"
    }
   ],
   "source": [
    "random_state = 0\n",
    "lda = LatentDirichletAllocation(n_components=best_n_topics, \n",
    "                                random_state=random_state)\n",
    "lda.fit(Y)"
   ]
  },
  {
   "cell_type": "code",
   "execution_count": 47,
   "id": "ae25822c-6b3e-4d4a-868f-fe6e2d617f34",
   "metadata": {},
   "outputs": [
    {
     "name": "stdout",
     "output_type": "stream",
     "text": [
      "Topic 0:\n",
      "['麻烦', '多', '可爱', '养', '金毛', '毛', '掉', '还', '吃', '的']\n"
     ]
    },
    {
     "name": "stderr",
     "output_type": "stream",
     "text": [
      "C:\\Users\\86198\\anaconda3\\lib\\site-packages\\sklearn\\utils\\deprecation.py:87: FutureWarning: Function get_feature_names is deprecated; get_feature_names is deprecated in 1.0 and will be removed in 1.2. Please use get_feature_names_out instead.\n",
      "  warnings.warn(msg, category=FutureWarning)\n"
     ]
    },
    {
     "data": {
      "image/png": "[encoded data removed]",
      "text/plain": [
       "<Figure size 432x288 with 1 Axes>"
      ]
     },
     "metadata": {
      "needs_background": "light"
     },
     "output_type": "display_data"
    },
    {
     "name": "stdout",
     "output_type": "stream",
     "text": [
      "Topic 1:\n",
      "['吃', '毛', '小', '它', '拉', '啊', '口水', '的', '都', '了']\n"
     ]
    },
    {
     "name": "stderr",
     "output_type": "stream",
     "text": [
      "C:\\Users\\86198\\anaconda3\\lib\\site-packages\\sklearn\\utils\\deprecation.py:87: FutureWarning: Function get_feature_names is deprecated; get_feature_names is deprecated in 1.0 and will be removed in 1.2. Please use get_feature_names_out instead.\n",
      "  warnings.warn(msg, category=FutureWarning)\n"
     ]
    },
    {
     "data": {
      "image/png": "[encoded data removed]",
      "text/plain": [
       "<Figure size 432x288 with 1 Axes>"
      ]
     },
     "metadata": {
      "needs_background": "light"
     },
     "output_type": "display_data"
    }
   ],
   "source": [
    "for i, topic in enumerate(lda.components_):\n",
    "    print(f\"Topic {i}:\")\n",
    "    print([vectorizer.get_feature_names()[index] for index in topic.argsort()[-10:]])\n",
    "    plt.bar([vectorizer.get_feature_names()[index] for index in topic.argsort()[-10:]], topic[topic.argsort()[-10:]])\n",
    "    plt.xticks(rotation=45)\n",
    "    plt.title(f\"Topic {i}\")\n",
    "    # plt.rcParams['font.sans-serif'] = ['Arial Unicode MS']\n",
    "    plt.rcParams['font.sans-serif'] = ['SimHei']\n",
    "    plt.rcParams['axes.unicode_minus'] = False\n",
    "\n",
    "    plt.show()"
   ]
  },
  {
   "cell_type": "code",
   "execution_count": 48,
   "id": "c39d59ed-fcec-40c0-bca4-417039d45c7a",
   "metadata": {},
   "outputs": [
    {
     "name": "stderr",
     "output_type": "stream",
     "text": [
      "C:\\Users\\86198\\anaconda3\\lib\\site-packages\\sklearn\\utils\\deprecation.py:87: FutureWarning: Function get_feature_names is deprecated; get_feature_names is deprecated in 1.0 and will be removed in 1.2. Please use get_feature_names_out instead.\n",
      "  warnings.warn(msg, category=FutureWarning)\n",
      "C:\\Users\\86198\\anaconda3\\lib\\site-packages\\pyLDAvis\\_prepare.py:243: FutureWarning: In a future version of pandas all arguments of DataFrame.drop except for the argument 'labels' will be keyword-only.\n",
      "  default_term_info = default_term_info.sort_values(\n"
     ]
    }
   ],
   "source": [
    "import pyLDAvis.sklearn\n",
    "pyLDAvis.enable_notebook()\n",
    "y = pyLDAvis.sklearn.prepare(lda, Y, vectorizer)\n",
    "pyLDAvis.save_html(y, 'lda_jinmao11.html')"
   ]
  },
  {
   "cell_type": "code",
   "execution_count": null,
   "id": "a5c0630a-b586-43de-a303-770c79fafecb",
   "metadata": {},
   "outputs": [],
   "source": []
  },
  {
   "cell_type": "code",
   "execution_count": null,
   "id": "f62d2016",
   "metadata": {},
   "outputs": [],
   "source": []
  }
 ],
 "metadata": {
  "kernelspec": {
   "display_name": "Python 3 (ipykernel)",
   "language": "python",
   "name": "python3"
  },
  "language_info": {
   "codemirror_mode": {
    "name": "ipython",
    "version": 3
   },
   "file_extension": ".py",
   "mimetype": "text/x-python",
   "name": "python",
   "nbconvert_exporter": "python",
   "pygments_lexer": "ipython3",
   "version": "3.9.12"
  }
 },
 "nbformat": 4,
 "nbformat_minor": 5
}
